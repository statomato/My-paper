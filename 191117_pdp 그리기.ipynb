{
 "cells": [
  {
   "cell_type": "code",
   "execution_count": null,
   "metadata": {},
   "outputs": [],
   "source": [
    "library(readr); library(dplyr)\n",
    "train <- read_csv(\"C:/Users/wjssm/Desktop/DM_project/weather/data/train_cluster0.csv\")\n",
    "library(randomForest)\n",
    "\n",
    "rf1 <- randomForest(y~., data = train)\n",
    "VarImpPlot(rf1)\n",
    "\n",
    "partialPlot(rf1, pred.data = train, x.var = 'signal_num')\n",
    "partialPlot(rf1, pred.data = train, x.var = 'road_length')\n",
    "partialPlot(rf1, pred.data = train, x.var = 'cctv_length')\n",
    "partialPlot(rf1, pred.data = train, x.var = 'd1_length')\n",
    "partialPlot(rf1, pred.data = train, x.var = 'time')\n",
    "partialPlot(rf1, pred.data = train, x.var = 'entrance_length')\n",
    "partialPlot(rf1, pred.data = train, x.var = 'signal_length')\n",
    "partialPlot(rf1, pred.data = train, x.var = 'd3_length')\n",
    "partialPlot(rf1, pred.data = train, x.var = 'days_4')\n",
    "partialPlot(rf1, pred.data = train, x.var = 'd4_num')"
   ]
  }
 ],
 "metadata": {
  "kernelspec": {
   "display_name": "R",
   "language": "R",
   "name": "ir"
  },
  "language_info": {
   "codemirror_mode": "r",
   "file_extension": ".r",
   "mimetype": "text/x-r-source",
   "name": "R",
   "pygments_lexer": "r",
   "version": "3.6.1"
  }
 },
 "nbformat": 4,
 "nbformat_minor": 2
}
