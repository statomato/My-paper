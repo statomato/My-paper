{
 "cells": [
  {
   "cell_type": "code",
   "execution_count": 1,
   "metadata": {},
   "outputs": [
    {
     "data": {
      "text/plain": [
       "'C:\\\\Users\\\\EunJin\\\\Desktop\\\\논문 데이터'"
      ]
     },
     "execution_count": 1,
     "metadata": {},
     "output_type": "execute_result"
    }
   ],
   "source": [
    "import os\n",
    "\n",
    "os.chdir('C:/Users/EunJin/Desktop/논문 데이터')\n",
    "os.getcwd()"
   ]
  },
  {
   "cell_type": "code",
   "execution_count": 2,
   "metadata": {},
   "outputs": [],
   "source": [
    "import pandas as pd\n",
    "\n",
    "car_df1_cluster0 = pd.read_pickle('car_df1_cluster0.pkl')"
   ]
  },
  {
   "cell_type": "code",
   "execution_count": 3,
   "metadata": {},
   "outputs": [
    {
     "data": {
      "text/plain": [
       "309926"
      ]
     },
     "execution_count": 3,
     "metadata": {},
     "output_type": "execute_result"
    }
   ],
   "source": [
    "len(car_df1_cluster0)"
   ]
  },
  {
   "cell_type": "code",
   "execution_count": 4,
   "metadata": {},
   "outputs": [
    {
     "data": {
      "text/plain": [
       "66"
      ]
     },
     "execution_count": 4,
     "metadata": {},
     "output_type": "execute_result"
    }
   ],
   "source": [
    "car_df1_cluster0['link_id'].nunique()"
   ]
  },
  {
   "cell_type": "code",
   "execution_count": 4,
   "metadata": {},
   "outputs": [],
   "source": [
    "from sklearn.model_selection import train_test_split\n",
    "X_train, X_test, y_train, y_test = train_test_split(car_df1_cluster0.drop(['date','road_name','link_id','start_point','end_point','cluster','y'],axis = 1), car_df1_cluster0['y'], test_size=0.3, random_state=333)"
   ]
  },
  {
   "cell_type": "code",
   "execution_count": 5,
   "metadata": {},
   "outputs": [],
   "source": [
    "X_train = X_train.reset_index(drop=True)\n",
    "X_test = X_test.reset_index(drop=True)\n",
    "y_train = y_train.reset_index(drop=True)\n",
    "y_test = y_test.reset_index(drop=True)"
   ]
  },
  {
   "cell_type": "code",
   "execution_count": 6,
   "metadata": {},
   "outputs": [],
   "source": [
    "from sklearn.metrics import mean_squared_error\n",
    "\n",
    "def rmse(y_true, y_pred) : \n",
    "    return np.sqrt(mean_squared_error(y_true, y_pred))\n",
    "\n",
    "def model_cv_test(model, train_X, train_y, test_X, test_y, is_log) :\n",
    "\n",
    "    train_rmse = []\n",
    "    valid_rmse = []\n",
    "    \n",
    "    print('##### {} #####'.format(model.__class__.__name__))\n",
    "        \n",
    "    for i, (train_idx, val_idx) in enumerate(kf.split(train_X)):\n",
    "        X_train, X_val = train_X.iloc[train_idx, :], train_X.iloc[val_idx, :]\n",
    "        y_train, y_val = train_y[train_idx], train_y[val_idx]\n",
    "\n",
    "        model.fit(X_train, y_train)\n",
    "        \n",
    "        if is_log :\n",
    "            y_train = np.expm1(y_train)\n",
    "            y_val = np.expm1(y_val)\n",
    "            pred_train = np.expm1(model.predict(X_train))\n",
    "            pred_valid = np.expm1(model.predict(X_val))\n",
    "        else :\n",
    "            pred_train = model.predict(X_train)\n",
    "            pred_valid = model.predict(X_val)\n",
    "\n",
    "        print('{0} fold train rmse : {1:.3f} valid rmse : {2:.3f}'.format(i, rmse(y_train, pred_train), rmse(y_val, pred_valid)))\n",
    "        \n",
    "        train_rmse.append(rmse(y_train, pred_train))\n",
    "        valid_rmse.append(rmse(y_val, pred_valid))\n",
    "\n",
    "    print('\\n')    \n",
    "    print('mean train rmse : {0:.3f} mean valid rmse : {1:.3f}'.format(np.mean(train_rmse), np.mean(valid_rmse)))\n",
    "\n",
    "    \n",
    "    model.fit(train_X, train_y)\n",
    "    \n",
    "    if is_log :\n",
    "        test_y = np.expm1(test_y)\n",
    "        pred_test = np.expm1(model.predict(test_X))\n",
    "    else :\n",
    "        pred_test = model.predict(test_X)\n",
    "    \n",
    "    print('test rmse {0:.3f} '.format(rmse(test_y, pred_test)))\n",
    "    \n",
    "from sklearn.model_selection import KFold\n",
    "kf = KFold(n_splits = 3, random_state = 333)"
   ]
  },
  {
   "cell_type": "code",
   "execution_count": 7,
   "metadata": {},
   "outputs": [],
   "source": [
    "from sklearn.linear_model import LinearRegression, Lasso, Ridge\n",
    "lr = LinearRegression()"
   ]
  },
  {
   "cell_type": "code",
   "execution_count": 10,
   "metadata": {},
   "outputs": [],
   "source": [
    "import numpy as np\n",
    "from sklearn.preprocessing import StandardScaler\n",
    "sc = StandardScaler()\n",
    "\n",
    "sc.fit(X_train)\n",
    "X_train_sc = pd.DataFrame(sc.transform(X_train))\n",
    "X_test_sc = pd.DataFrame(sc.transform(X_test))"
   ]
  },
  {
   "cell_type": "code",
   "execution_count": 11,
   "metadata": {},
   "outputs": [
    {
     "name": "stdout",
     "output_type": "stream",
     "text": [
      "##### LinearRegression #####\n",
      "0 fold train rmse : 5.075 valid rmse : 5.093\n",
      "1 fold train rmse : 5.074 valid rmse : 5.096\n",
      "2 fold train rmse : 5.093 valid rmse : 5.058\n",
      "\n",
      "\n",
      "mean train rmse : 5.081 mean valid rmse : 5.082\n",
      "test rmse 5.107 \n"
     ]
    }
   ],
   "source": [
    "model_cv_test(lr, X_train, y_train, X_test, y_test, False)"
   ]
  },
  {
   "cell_type": "code",
   "execution_count": 12,
   "metadata": {},
   "outputs": [
    {
     "name": "stdout",
     "output_type": "stream",
     "text": [
      "##### Ridge #####\n",
      "0 fold train rmse : 5.075 valid rmse : 5.093\n",
      "1 fold train rmse : 5.074 valid rmse : 5.096\n",
      "2 fold train rmse : 5.093 valid rmse : 5.058\n",
      "\n",
      "\n",
      "mean train rmse : 5.081 mean valid rmse : 5.082\n",
      "test rmse 5.107 \n"
     ]
    }
   ],
   "source": [
    "ridge = Ridge()\n",
    "model_cv_test(ridge, X_train_sc, y_train, X_test_sc, y_test, False)"
   ]
  },
  {
   "cell_type": "code",
   "execution_count": 13,
   "metadata": {},
   "outputs": [
    {
     "name": "stdout",
     "output_type": "stream",
     "text": [
      "##### Lasso #####\n",
      "0 fold train rmse : 6.435 valid rmse : 6.432\n",
      "1 fold train rmse : 6.435 valid rmse : 6.422\n",
      "2 fold train rmse : 6.439 valid rmse : 6.455\n",
      "\n",
      "\n",
      "mean train rmse : 6.436 mean valid rmse : 6.437\n",
      "test rmse 6.440 \n"
     ]
    }
   ],
   "source": [
    "lasso = Lasso()\n",
    "model_cv_test(lasso, X_train_sc, y_train, X_test_sc, y_test, False)"
   ]
  },
  {
   "cell_type": "code",
   "execution_count": 14,
   "metadata": {},
   "outputs": [],
   "source": [
    "from sklearn.ensemble import RandomForestRegressor\n",
    "rf = RandomForestRegressor(n_jobs = -1)\n",
    "#model_cv_test(rf, X_train, y_train, X_test, y_test, False)"
   ]
  },
  {
   "cell_type": "code",
   "execution_count": 25,
   "metadata": {},
   "outputs": [
    {
     "name": "stdout",
     "output_type": "stream",
     "text": [
      "##### RandomForestRegressor #####\n",
      "0 fold train rmse : 0.993 valid rmse : 2.360\n",
      "1 fold train rmse : 1.000 valid rmse : 2.373\n",
      "2 fold train rmse : 0.997 valid rmse : 2.348\n",
      "\n",
      "\n",
      "mean train rmse : 0.997 mean valid rmse : 2.360\n",
      "test rmse 2.281 \n"
     ]
    }
   ],
   "source": [
    "model_cv_test(rf, X_train_sc, y_train, X_test_sc, y_test, False)"
   ]
  },
  {
   "cell_type": "code",
   "execution_count": 15,
   "metadata": {},
   "outputs": [
    {
     "name": "stderr",
     "output_type": "stream",
     "text": [
      "C:\\Users\\EunJin\\Anaconda3\\lib\\site-packages\\sklearn\\ensemble\\forest.py:245: FutureWarning: The default value of n_estimators will change from 10 in version 0.20 to 100 in 0.22.\n",
      "  \"10 in version 0.20 to 100 in 0.22.\", FutureWarning)\n"
     ]
    },
    {
     "data": {
      "text/plain": [
       "RandomForestRegressor(bootstrap=True, criterion='mse', max_depth=None,\n",
       "                      max_features='auto', max_leaf_nodes=None,\n",
       "                      min_impurity_decrease=0.0, min_impurity_split=None,\n",
       "                      min_samples_leaf=1, min_samples_split=2,\n",
       "                      min_weight_fraction_leaf=0.0, n_estimators=10, n_jobs=-1,\n",
       "                      oob_score=False, random_state=None, verbose=0,\n",
       "                      warm_start=False)"
      ]
     },
     "execution_count": 15,
     "metadata": {},
     "output_type": "execute_result"
    }
   ],
   "source": [
    "rf.fit(X_train,y_train)"
   ]
  },
  {
   "cell_type": "code",
   "execution_count": 17,
   "metadata": {},
   "outputs": [],
   "source": [
    "import numpy as np\n",
    "import pandas as pd\n",
    "from sklearn.preprocessing import MinMaxScaler\n",
    "from sklearn.preprocessing import scale, robust_scale, minmax_scale, maxabs_scale\n",
    "from sklearn.cluster import KMeans\n",
    "import matplotlib.pyplot as plt\n",
    "import seaborn as sns\n",
    "import random\n",
    "import warnings\n",
    "warnings.filterwarnings('ignore')"
   ]
  },
  {
   "cell_type": "code",
   "execution_count": 18,
   "metadata": {},
   "outputs": [
    {
     "data": {
      "image/png": "[encoded data removed]",
      "text/plain": [
       "<Figure size 1440x720 with 1 Axes>"
      ]
     },
     "metadata": {},
     "output_type": "display_data"
    }
   ],
   "source": [
    "feature_imp = pd.DataFrame(sorted(zip(rf.feature_importances_, X_train.columns)), columns=['Value','Feature'])\n",
    "\n",
    "sns.set(font_scale=2)\n",
    "plt.figure(figsize=(20, 10))\n",
    "sns.barplot(x=\"Value\", y=\"Feature\", data=feature_imp.sort_values(by=\"Value\", ascending=False)[:10])\n",
    "plt.title('RandomForest Feature Importance')\n",
    "plt.tight_layout()\n",
    "plt.show()"
   ]
  },
  {
   "cell_type": "code",
   "execution_count": 19,
   "metadata": {},
   "outputs": [],
   "source": [
    "from sklearn.ensemble import RandomForestRegressor, GradientBoostingRegressor\n",
    "from xgboost import XGBRegressor\n",
    "from lightgbm import LGBMRegressor\n",
    "\n",
    "import warnings\n",
    "warnings.filterwarnings('ignore')"
   ]
  },
  {
   "cell_type": "code",
   "execution_count": 20,
   "metadata": {},
   "outputs": [],
   "source": [
    "from sklearn.model_selection import train_test_split\n",
    "from sklearn.linear_model import LinearRegression\n",
    "from sklearn.metrics import r2_score\n",
    "\n",
    "from numpy import *\n",
    "from math import sqrt"
   ]
  },
  {
   "cell_type": "code",
   "execution_count": 21,
   "metadata": {},
   "outputs": [],
   "source": [
    "def get_model_predict(model, X_train, X_test, y_train, y_test, is_expm1=False):\n",
    "    model.fit(X_train, y_train)\n",
    "    pred = model.predict(X_test)\n",
    "    if is_expm1 :\n",
    "        y_test = np.expm1(y_test)\n",
    "        pred = np.expm1(pred)\n",
    "    mse = mean_squared_error(y_test, pred) \n",
    "    rmse = sqrt(mse)\n",
    "    r2 = r2_score(y_test, pred)\n",
    "    \n",
    "    \n",
    "    print('###',model.__class__.__name__,'###')\n",
    "    print('MSE: {0:.3f}, RMSE: {1:.3f}, R2: {2:.3F}'.format(mse, rmse, r2*100))"
   ]
  },
  {
   "cell_type": "code",
   "execution_count": 22,
   "metadata": {},
   "outputs": [],
   "source": [
    "xgb = XGBRegressor(n_jobs = -1)\n",
    "lgb = LGBMRegressor(n_jobs = -1)"
   ]
  },
  {
   "cell_type": "code",
   "execution_count": 23,
   "metadata": {},
   "outputs": [
    {
     "name": "stdout",
     "output_type": "stream",
     "text": [
      "### XGBRegressor ###\n",
      "MSE: 12.174, RMSE: 3.489, R2: 74.768\n"
     ]
    }
   ],
   "source": [
    "get_model_predict(xgb, X_train, X_test, y_train, y_test)"
   ]
  },
  {
   "cell_type": "code",
   "execution_count": 24,
   "metadata": {},
   "outputs": [
    {
     "name": "stdout",
     "output_type": "stream",
     "text": [
      "### LGBMRegressor ###\n",
      "MSE: 7.122, RMSE: 2.669, R2: 85.239\n"
     ]
    }
   ],
   "source": [
    "get_model_predict(lgb, X_train, X_test, y_train, y_test)"
   ]
  },
  {
   "cell_type": "code",
   "execution_count": 26,
   "metadata": {},
   "outputs": [
    {
     "name": "stdout",
     "output_type": "stream",
     "text": [
      "##### XGBRegressor #####\n",
      "0 fold train rmse : 3.496 valid rmse : 3.503\n",
      "1 fold train rmse : 3.440 valid rmse : 3.459\n",
      "2 fold train rmse : 3.450 valid rmse : 3.440\n",
      "\n",
      "\n",
      "mean train rmse : 3.462 mean valid rmse : 3.467\n",
      "test rmse 3.489 \n"
     ]
    }
   ],
   "source": [
    "model_cv_test(xgb, X_train_sc, y_train, X_test_sc, y_test, False)"
   ]
  },
  {
   "cell_type": "code",
   "execution_count": 27,
   "metadata": {},
   "outputs": [
    {
     "name": "stdout",
     "output_type": "stream",
     "text": [
      "##### LGBMRegressor #####\n",
      "0 fold train rmse : 2.626 valid rmse : 2.652\n",
      "1 fold train rmse : 2.624 valid rmse : 2.665\n",
      "2 fold train rmse : 2.627 valid rmse : 2.637\n",
      "\n",
      "\n",
      "mean train rmse : 2.626 mean valid rmse : 2.652\n",
      "test rmse 2.665 \n"
     ]
    }
   ],
   "source": [
    "model_cv_test(lgb, X_train_sc, y_train, X_test_sc, y_test, False)"
   ]
  },
  {
   "cell_type": "markdown",
   "metadata": {},
   "source": [
    "## cluster0은 rmse 기준으로 randomForest 선택"
   ]
  },
  {
   "cell_type": "code",
   "execution_count": 30,
   "metadata": {},
   "outputs": [
    {
     "data": {
      "text/plain": [
       "66"
      ]
     },
     "execution_count": 30,
     "metadata": {},
     "output_type": "execute_result"
    }
   ],
   "source": [
    "car_df1_cluster0.link_id.nunique()"
   ]
  },
  {
   "cell_type": "code",
   "execution_count": null,
   "metadata": {},
   "outputs": [],
   "source": []
  }
 ],
 "metadata": {
  "kernelspec": {
   "display_name": "Python 3",
   "language": "python",
   "name": "python3"
  },
  "language_info": {
   "codemirror_mode": {
    "name": "ipython",
    "version": 3
   },
   "file_extension": ".py",
   "mimetype": "text/x-python",
   "name": "python",
   "nbconvert_exporter": "python",
   "pygments_lexer": "ipython3",
   "version": "3.7.3"
  }
 },
 "nbformat": 4,
 "nbformat_minor": 2
}
