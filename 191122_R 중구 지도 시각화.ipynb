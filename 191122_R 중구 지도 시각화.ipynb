{
 "cells": [
  {
   "cell_type": "code",
   "execution_count": 18,
   "metadata": {},
   "outputs": [
    {
     "ename": "ERROR",
     "evalue": "Error in library(rgeos): there is no package called 'rgeos'\n",
     "output_type": "error",
     "traceback": [
      "Error in library(rgeos): there is no package called 'rgeos'\nTraceback:\n",
      "1. library(rgeos)"
     ]
    }
   ],
   "source": [
    "setwd(\"C:/Users/EunJin/Desktop/논문 데이터\")\n",
    "library(ggplot2)\n",
    "library(dplyr)\n",
    "library(readr)\n",
    "library(ggmap)\n",
    "library(raster)\n",
    "library(rgeos)\n",
    "library(maptools)\n",
    "library(rgdal)\n",
    "library(leaflet)"
   ]
  },
  {
   "cell_type": "code",
   "execution_count": 8,
   "metadata": {},
   "outputs": [
    {
     "name": "stderr",
     "output_type": "stream",
     "text": [
      "Warning message:\n",
      "\"Missing column names filled in: 'X1' [1]\"Parsed with column specification:\n",
      "cols(\n",
      "  .default = col_double(),\n",
      "  road_name = col_character(),\n",
      "  start_point = col_character(),\n",
      "  end_point = col_character()\n",
      ")\n",
      "See spec(...) for full column specifications.\n"
     ]
    }
   ],
   "source": [
    "car_df1 <- read_csv('car_df1.csv')"
   ]
  },
  {
   "cell_type": "code",
   "execution_count": 9,
   "metadata": {},
   "outputs": [
    {
     "data": {
      "text/plain": [
       "\n",
       "     0      1      2 \n",
       "309926 611122  37032 "
      ]
     },
     "metadata": {},
     "output_type": "display_data"
    }
   ],
   "source": [
    "table(car_df1$cluster)"
   ]
  },
  {
   "cell_type": "code",
   "execution_count": 10,
   "metadata": {},
   "outputs": [],
   "source": [
    "map_df3 = car_df1"
   ]
  },
  {
   "cell_type": "code",
   "execution_count": 13,
   "metadata": {},
   "outputs": [
    {
     "name": "stderr",
     "output_type": "stream",
     "text": [
      "Installing package into 'C:/Users/EunJin/Documents/R/win-library/3.6'\n",
      "(as 'lib' is unspecified)\n"
     ]
    },
    {
     "name": "stdout",
     "output_type": "stream",
     "text": [
      "package 'rgdal' successfully unpacked and MD5 sums checked\n",
      "\n",
      "The downloaded binary packages are in\n",
      "\tC:\\Users\\EunJin\\AppData\\Local\\Temp\\RtmpIPW5Ec\\downloaded_packages\n"
     ]
    },
    {
     "name": "stderr",
     "output_type": "stream",
     "text": [
      "rgdal: version: 1.4-7, (SVN revision 845)\n",
      " Geospatial Data Abstraction Library extensions to R successfully loaded\n",
      " Loaded GDAL runtime: GDAL 2.2.3, released 2017/11/20\n",
      " Path to GDAL shared files: C:/Users/EunJin/Documents/R/win-library/3.6/rgdal/gdal\n",
      " GDAL binary built with GEOS: TRUE \n",
      " Loaded PROJ.4 runtime: Rel. 4.9.3, 15 August 2016, [PJ_VERSION: 493]\n",
      " Path to PROJ.4 shared files: C:/Users/EunJin/Documents/R/win-library/3.6/rgdal/proj\n",
      " Linking to sp version: 1.3-2 \n"
     ]
    }
   ],
   "source": [
    "install.packages(\"rgdal\")\n",
    "library(rgdal)"
   ]
  },
  {
   "cell_type": "code",
   "execution_count": 14,
   "metadata": {},
   "outputs": [
    {
     "ename": "ERROR",
     "evalue": "Error in colorFactor(c(\"navy\", \"red\", \"green\"), domain = c(0, 1, 2)): 함수 \"colorFactor\"를 찾을 수 없습니다\n",
     "output_type": "error",
     "traceback": [
      "Error in colorFactor(c(\"navy\", \"red\", \"green\"), domain = c(0, 1, 2)): 함수 \"colorFactor\"를 찾을 수 없습니다\nTraceback:\n"
     ]
    }
   ],
   "source": [
    "map_df3 <- map_df3 %>% mutate(m_lat = (start_lat+end_lat)/2,\n",
    "                              m_lon = (start_lon+end_lon)/2)\n",
    "\n",
    "pal <- colorFactor(c(\"navy\", \"red\",'green'), domain = c(0,1,2))\n",
    "leaflet(data = map_df3) %>% addTiles() %>%\n",
    "  addCircleMarkers(lat = ~m_lat,lng = ~m_lon,\n",
    "                   popup=paste(map_df3$link_id,'<br>',map_df3$road_name),\n",
    "                   color = ~pal(cluster),\n",
    "                   radius=3)\n",
    "\n",
    "leaflet(data = map_df3) %>% addTiles() %>%\n",
    "  addCircleMarkers(lat = ~end_lat,lng = ~end_lon,\n",
    "                   popup=paste(map_df3$link_id,'<br>',map_df3$road_name),\n",
    "                   color = ~pal(cluster),\n",
    "                   radius=3)\n",
    "\n",
    "clus0 <- filter(map_df3,cluster==0)\n",
    "clus1 <- filter(map_df3,cluster==1)\n",
    "clus2 <- filter(map_df3,cluster==2)\n",
    "\n",
    "leaflet(data = clus1) %>% addTiles() %>%\n",
    "  addCircleMarkers(lat = ~end_lat,lng = ~end_lon,\n",
    "                   popup=paste(map_df3$link_id,'<br>',map_df3$road_name),\n",
    "                   radius=3) %>%\n",
    "  addCircleMarkers(lat = ~start_lat,lng = ~start_lon,\n",
    "                   popup=paste(map_df3$link_id,'<br>',map_df3$road_name),\n",
    "                   radius=3,color='red')\n"
   ]
  },
  {
   "cell_type": "code",
   "execution_count": 19,
   "metadata": {},
   "outputs": [
    {
     "ename": "ERROR",
     "evalue": "Error: Google now requires an API key.\n       See ?register_google for details.\n",
     "output_type": "error",
     "traceback": [
      "Error: Google now requires an API key.\n       See ?register_google for details.\nTraceback:\n",
      "1. get_map(center, zoom = 13, maptype = \"roadmap\")",
      "2. get_googlemap(center = location, zoom = zoom, maptype = maptype, \n .     scale = scale, messaging = messaging, urlonly = urlonly, \n .     force = force, filename = filename, color = color, language = language)",
      "3. stop(\"Google now requires an API key.\", \"\\n       See ?register_google for details.\", \n .     call. = FALSE)"
     ]
    }
   ],
   "source": [
    "##### ggmap ##### \n",
    "\n",
    "center <- c(mean(map_df3$start_lon),mean(map_df3$start_lat))\n",
    "map <- get_map(center, zoom = 13, maptype ='roadmap')\n",
    "\n",
    "ggmap(map) + geom_point(data=gangnam, aes(x=lon, y=lat, size=call, colour=call)) +\n",
    "  scale_color_gradient(low='blue', high='red')\n",
    "\n",
    "\n",
    "\n",
    "road_map <- function(df){\n",
    "  ggmap(map) + \n",
    "    geom_segment(data = df,\n",
    "                 aes(x = start_lon, \n",
    "                     y = start_lat,\n",
    "                     xend = end_lon,\n",
    "                     yend = end_lat),\n",
    "                 color = \"#008b8b\",size=1.3) + \n",
    "    geom_point(data=df, aes(x=start_lon, y=start_lat),color = \"#ff3f13\",size=2) +\n",
    "    geom_point(data=df, aes(x=end_lon, y=end_lat),color = \"#ff3f13\",size=2) +\n",
    "    theme_nothing()\n",
    "}\n",
    "\n",
    "road_map(clus0)\n",
    "road_map(clus1)\n",
    "road_map(clus2)\n",
    "road_map(map_df3)"
   ]
  },
  {
   "cell_type": "code",
   "execution_count": 25,
   "metadata": {},
   "outputs": [
    {
     "ename": "ERROR",
     "evalue": "Error: .onLoad failed in loadNamespace() for 'pkgload', details:\n  call: loadNamespace(i, c(lib.loc, .libPaths()), versionCheck = vI[[i]])\n  error: namespace 'rlang' 0.3.4 is already loaded, but >= 0.4.1 is required\n",
     "output_type": "error",
     "traceback": [
      "Error: .onLoad failed in loadNamespace() for 'pkgload', details:\n  call: loadNamespace(i, c(lib.loc, .libPaths()), versionCheck = vI[[i]])\n  error: namespace 'rlang' 0.3.4 is already loaded, but >= 0.4.1 is required\nTraceback:\n",
      "1. devtools::install_github",
      "2. getExportedValue(pkg, name)",
      "3. asNamespace(ns)",
      "4. getNamespace(ns)",
      "5. loadNamespace(name)",
      "6. namespaceImportFrom(ns, loadNamespace(j <- i[[1L]], c(lib.loc, \n .     .libPaths()), versionCheck = vI[[j]]), i[[2L]], from = package)",
      "7. asNamespace(ns)",
      "8. loadNamespace(j <- i[[1L]], c(lib.loc, .libPaths()), versionCheck = vI[[j]])",
      "9. runHook(\".onLoad\", env, package.lib, package)",
      "10. stop(gettextf(\"%s failed in %s() for '%s', details:\\n  call: %s\\n  error: %s\", \n  .     hookname, \"loadNamespace\", pkgname, deparse(conditionCall(res))[1L], \n  .     conditionMessage(res)), call. = FALSE, domain = NA)"
     ]
    }
   ],
   "source": [
    "devtools::install_github(\"dkahle/ggmap\")"
   ]
  },
  {
   "cell_type": "code",
   "execution_count": 24,
   "metadata": {},
   "outputs": [
    {
     "name": "stderr",
     "output_type": "stream",
     "text": [
      "Installing package into 'C:/Users/EunJin/Documents/R/win-library/3.6'\n",
      "(as 'lib' is unspecified)\n"
     ]
    },
    {
     "name": "stdout",
     "output_type": "stream",
     "text": [
      "package 'devtools' successfully unpacked and MD5 sums checked\n",
      "\n",
      "The downloaded binary packages are in\n",
      "\tC:\\Users\\EunJin\\AppData\\Local\\Temp\\RtmpIPW5Ec\\downloaded_packages\n"
     ]
    },
    {
     "ename": "ERROR",
     "evalue": "Error: package or namespace load failed for 'devtools':\n .onLoad failed in loadNamespace() for 'pkgload', details:\n  call: loadNamespace(i, c(lib.loc, .libPaths()), versionCheck = vI[[i]])\n  error: namespace 'rlang' 0.3.4 is already loaded, but >= 0.4.1 is required\n",
     "output_type": "error",
     "traceback": [
      "Error: package or namespace load failed for 'devtools':\n .onLoad failed in loadNamespace() for 'pkgload', details:\n  call: loadNamespace(i, c(lib.loc, .libPaths()), versionCheck = vI[[i]])\n  error: namespace 'rlang' 0.3.4 is already loaded, but >= 0.4.1 is required\nTraceback:\n",
      "1. library(\"devtools\")",
      "2. tryCatch({\n .     attr(package, \"LibPath\") <- which.lib.loc\n .     ns <- loadNamespace(package, lib.loc)\n .     env <- attachNamespace(ns, pos = pos, deps, exclude, include.only)\n . }, error = function(e) {\n .     P <- if (!is.null(cc <- conditionCall(e))) \n .         paste(\" in\", deparse(cc)[1L])\n .     else \"\"\n .     msg <- gettextf(\"package or namespace load failed for %s%s:\\n %s\", \n .         sQuote(package), P, conditionMessage(e))\n .     if (logical.return) \n .         message(paste(\"Error:\", msg), domain = NA)\n .     else stop(msg, call. = FALSE, domain = NA)\n . })",
      "3. tryCatchList(expr, classes, parentenv, handlers)",
      "4. tryCatchOne(expr, names, parentenv, handlers[[1L]])",
      "5. value[[3L]](cond)",
      "6. stop(msg, call. = FALSE, domain = NA)"
     ]
    }
   ],
   "source": [
    "install.packages('devtools')\n",
    "library('devtools')"
   ]
  },
  {
   "cell_type": "code",
   "execution_count": 23,
   "metadata": {},
   "outputs": [
    {
     "name": "stderr",
     "output_type": "stream",
     "text": [
      "Installing package into 'C:/Users/EunJin/Documents/R/win-library/3.6'\n",
      "(as 'lib' is unspecified)\n"
     ]
    },
    {
     "name": "stdout",
     "output_type": "stream",
     "text": [
      "package 'pkgload' successfully unpacked and MD5 sums checked\n"
     ]
    },
    {
     "name": "stderr",
     "output_type": "stream",
     "text": [
      "Warning message:\n",
      "\"cannot remove prior installation of package 'pkgload'\"Warning message in file.copy(savedcopy, lib, recursive = TRUE):\n",
      "\"C:\\Users\\EunJin\\Documents\\R\\win-library\\3.6\\00LOCK\\pkgload\\libs\\x64\\pkgload.dll를 C:\\Users\\EunJin\\Documents\\R\\win-library\\3.6\\pkgload\\libs\\x64\\pkgload.dll로 복사하는데 문제가 발생했습니다: Permission denied\"Warning message:\n",
      "\"restored 'pkgload'\""
     ]
    },
    {
     "name": "stdout",
     "output_type": "stream",
     "text": [
      "\n",
      "The downloaded binary packages are in\n",
      "\tC:\\Users\\EunJin\\AppData\\Local\\Temp\\RtmpIPW5Ec\\downloaded_packages\n"
     ]
    },
    {
     "ename": "ERROR",
     "evalue": "Error: package or namespace load failed for 'pkgload':\n .onLoad failed in loadNamespace() for 'pkgload', details:\n  call: loadNamespace(i, c(lib.loc, .libPaths()), versionCheck = vI[[i]])\n  error: namespace 'rlang' 0.3.4 is already loaded, but >= 0.4.1 is required\n",
     "output_type": "error",
     "traceback": [
      "Error: package or namespace load failed for 'pkgload':\n .onLoad failed in loadNamespace() for 'pkgload', details:\n  call: loadNamespace(i, c(lib.loc, .libPaths()), versionCheck = vI[[i]])\n  error: namespace 'rlang' 0.3.4 is already loaded, but >= 0.4.1 is required\nTraceback:\n",
      "1. library(\"pkgload\")",
      "2. tryCatch({\n .     attr(package, \"LibPath\") <- which.lib.loc\n .     ns <- loadNamespace(package, lib.loc)\n .     env <- attachNamespace(ns, pos = pos, deps, exclude, include.only)\n . }, error = function(e) {\n .     P <- if (!is.null(cc <- conditionCall(e))) \n .         paste(\" in\", deparse(cc)[1L])\n .     else \"\"\n .     msg <- gettextf(\"package or namespace load failed for %s%s:\\n %s\", \n .         sQuote(package), P, conditionMessage(e))\n .     if (logical.return) \n .         message(paste(\"Error:\", msg), domain = NA)\n .     else stop(msg, call. = FALSE, domain = NA)\n . })",
      "3. tryCatchList(expr, classes, parentenv, handlers)",
      "4. tryCatchOne(expr, names, parentenv, handlers[[1L]])",
      "5. value[[3L]](cond)",
      "6. stop(msg, call. = FALSE, domain = NA)"
     ]
    }
   ],
   "source": [
    "install.packages('pkgload')\n",
    "library('pkgload')"
   ]
  },
  {
   "cell_type": "code",
   "execution_count": null,
   "metadata": {},
   "outputs": [],
   "source": []
  }
 ],
 "metadata": {
  "kernelspec": {
   "display_name": "R",
   "language": "R",
   "name": "ir"
  },
  "language_info": {
   "codemirror_mode": "r",
   "file_extension": ".r",
   "mimetype": "text/x-r-source",
   "name": "R",
   "pygments_lexer": "r",
   "version": "3.6.1"
  }
 },
 "nbformat": 4,
 "nbformat_minor": 2
}
